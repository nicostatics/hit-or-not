{
 "cells": [
  {
   "cell_type": "code",
   "execution_count": 1,
   "id": "8516f593-37dc-41db-8235-6b6f1fb91486",
   "metadata": {},
   "outputs": [],
   "source": [
    "import requests\n",
    "import json\n",
    "from dotenv import load_dotenv\n",
    "import os\n",
    "import pandas as pd\n",
    "import time"
   ]
  },
  {
   "cell_type": "code",
   "execution_count": 2,
   "id": "f0eba8e0-0e89-4b0d-b92e-b8f98a0a379e",
   "metadata": {},
   "outputs": [],
   "source": [
    "chartmetric_url = 'https://api.chartmetric.com'\n",
    "post_request_url = f'{chartmetric_url}/api/token'\n",
    "\n",
    "# Set environment variables from the .env in the local environment\n",
    "load_dotenv(\".env\")\n",
    "\n",
    "# Retrieve API key and store as Python variable\n",
    "refresh_api_token = os.getenv(\"REFRESH_TOKEN\")"
   ]
  },
  {
   "cell_type": "code",
   "execution_count": 3,
   "id": "6a1909c3-c66a-43b6-9a0f-ec53ca199ae6",
   "metadata": {},
   "outputs": [],
   "source": [
    "refresh_api_token"
   ]
  },
  {
   "cell_type": "code",
   "execution_count": 4,
   "id": "33a535b5-4e66-47e7-84b8-d6d8d31d88f0",
   "metadata": {},
   "outputs": [
    {
     "ename": "KeyError",
     "evalue": "'token'",
     "output_type": "error",
     "traceback": [
      "\u001b[0;31m---------------------------------------------------------------------------\u001b[0m",
      "\u001b[0;31mKeyError\u001b[0m                                  Traceback (most recent call last)",
      "Cell \u001b[0;32mIn[4], line 4\u001b[0m\n\u001b[1;32m      1\u001b[0m post_request_url \u001b[38;5;241m=\u001b[39m chartmetric_url \u001b[38;5;241m+\u001b[39m \u001b[38;5;124m'\u001b[39m\u001b[38;5;124m/api/token\u001b[39m\u001b[38;5;124m'\u001b[39m\n\u001b[1;32m      3\u001b[0m post_results \u001b[38;5;241m=\u001b[39m requests\u001b[38;5;241m.\u001b[39mpost(post_request_url, data \u001b[38;5;241m=\u001b[39m {\u001b[38;5;124m\"\u001b[39m\u001b[38;5;124mrefreshtoken\u001b[39m\u001b[38;5;124m\"\u001b[39m:refresh_api_token}, json\u001b[38;5;241m=\u001b[39m\u001b[38;5;28;01mTrue\u001b[39;00m )\n\u001b[0;32m----> 4\u001b[0m api_token \u001b[38;5;241m=\u001b[39m post_results\u001b[38;5;241m.\u001b[39mjson()[\u001b[38;5;124m'\u001b[39m\u001b[38;5;124mtoken\u001b[39m\u001b[38;5;124m'\u001b[39m]\n\u001b[1;32m      5\u001b[0m api_token\n",
      "\u001b[0;31mKeyError\u001b[0m: 'token'"
     ]
    }
   ],
   "source": [
    "post_request_url = chartmetric_url + '/api/token'\n",
    "\n",
    "post_results = requests.post(post_request_url, data = {\"refreshtoken\":refresh_api_token}, json=True )\n",
    "api_token = post_results.json()['token']\n",
    "api_token"
   ]
  },
  {
   "cell_type": "markdown",
   "id": "533a7490-104f-49ab-911e-82ece1d75ecc",
   "metadata": {},
   "source": [
    "# Fresh Finds"
   ]
  },
  {
   "cell_type": "code",
   "execution_count": null,
   "id": "53bd7bf1-e537-444b-abba-4eef5ee60468",
   "metadata": {},
   "outputs": [],
   "source": [
    "#Call  the fresh finds chartmetric URL, has to be a thursday in the month in order for API to return\n",
    "date = '2024-06-27'\n",
    "spotify_freshfind_url = f'https://api.chartmetric.com/api/charts/spotify/freshfind?date={date}'\n",
    "\n",
    "#set headers t\n",
    "headers = {\"Authorization\": f\"Bearer {api_token}\"}\n",
    "\n",
    "#get results\n",
    "spotify_freshfind_results = requests.get(spotify_freshfind_url, headers = headers)"
   ]
  },
  {
   "cell_type": "code",
   "execution_count": null,
   "id": "9e1dc69c-27c6-47cb-838e-457e4cbba3bf",
   "metadata": {
    "scrolled": true
   },
   "outputs": [],
   "source": [
    "#display results JSON\n",
    "spotify_freshfind_results.json()"
   ]
  },
  {
   "cell_type": "code",
   "execution_count": null,
   "id": "601bd894-029d-4c38-a6f8-0060966de745",
   "metadata": {
    "scrolled": true
   },
   "outputs": [],
   "source": [
    "# Create a dataframe from the fresh finds data\n",
    "\n",
    "freshfinds_df = pd.json_normalize(spotify_freshfind_results.json()['obj'])\n",
    "freshfinds_df.head()"
   ]
  },
  {
   "cell_type": "code",
   "execution_count": null,
   "id": "f6aa229b-5cf6-476e-ae0e-5fa6a78a280b",
   "metadata": {
    "scrolled": true
   },
   "outputs": [],
   "source": [
    "# Identify Columns\n",
    "freshfinds_df.columns"
   ]
  },
  {
   "cell_type": "code",
   "execution_count": null,
   "id": "b59a5c4f-18c1-4bed-8f87-fe7b7886efa9",
   "metadata": {
    "scrolled": true
   },
   "outputs": [],
   "source": [
    "# Identify data types\n",
    "freshfinds_df.info"
   ]
  },
  {
   "cell_type": "code",
   "execution_count": null,
   "id": "9bf5e8c7-5d46-4e93-bb62-2d2657e92c3d",
   "metadata": {
    "scrolled": true
   },
   "outputs": [],
   "source": [
    "# Reduce dataframe to only necessary columns\n",
    "ff_df = freshfinds_df[['id',\n",
    "                       'score',\n",
    "                       'name', \n",
    "                       'isrc', \n",
    "                       'spotify_track_id', \n",
    "                       'spotify_album_id', \n",
    "                       'cm_track', \n",
    "                       'cm_artist',\n",
    "                       'spotify_artist_names', \n",
    "                       'spotify_artist_ids',\n",
    "                       'spotify_track_ids',\n",
    "                       'spotify_album_ids',\n",
    "                       'spotify_duration_ms',\n",
    "                       'album_ids',\n",
    "                       'album_names',\n",
    "                       'track_genre',\n",
    "                       'album_label',\n",
    "                       'release_dates',\n",
    "                       'composer_name',\n",
    "                       'songwriter',\n",
    "                       'artists',\n",
    "                       'album',\n",
    "                       'duration_ms',\n",
    "                       'explicit',\n",
    "                       'num_ff_playlists',\n",
    "                       'fresh_finds_playlists',\n",
    "                       'code2s'\n",
    "                      ]]\n",
    "ff_df"
   ]
  },
  {
   "cell_type": "code",
   "execution_count": null,
   "id": "6a1f6d50-e823-47ee-b17b-0d1925415ca8",
   "metadata": {
    "scrolled": true
   },
   "outputs": [],
   "source": [
    "# Create a list of dates to cycle through\n",
    "\n",
    "date_range = [ \n",
    "         '2024-03-28',\n",
    "         '2024-04-04', \n",
    "         '2024-04-11',\n",
    "         '2024-04-18',\n",
    "         '2024-04-25',\n",
    "         '2024-05-02',\n",
    "         '2024-05-09',\n",
    "         '2024-05-16',\n",
    "         '2024-05-23',\n",
    "         '2024-05-30',\n",
    "         '2024-06-06',\n",
    "         '2024-06-13', \n",
    "         '2024-06-20']\n",
    "\n",
    "# Initialize an empty list to store DataFrames\n",
    "dfs = []\n",
    "\n",
    "#loop through list and store API responses in a dataframe\n",
    "for date in date_range:\n",
    "    #call the API with that date\n",
    "    spotify_freshfind_url = f'https://api.chartmetric.com/api/charts/spotify/freshfind?date={date}'\n",
    "    #set headers t\n",
    "    headers = {\"Authorization\": f\"Bearer {api_token}\"}\n",
    "\n",
    "    #get results\n",
    "    spotify_freshfind_results = requests.get(spotify_freshfind_url, headers = headers)\n",
    "\n",
    "    # Check if the request was successful\n",
    "    if spotify_freshfind_results.status_code == 200:\n",
    "        # Parse the JSON response\n",
    "        data = spotify_freshfind_results.json()\n",
    "        \n",
    "        # Normalize the JSON response to a DataFrame\n",
    "        df = pd.json_normalize(data['obj'])  \n",
    "        \n",
    "        # Add a column for the date\n",
    "        df['date'] = date\n",
    "        \n",
    "        # Append the DataFrame to the list\n",
    "        dfs.append(df)\n",
    "    else:\n",
    "        print(f\"Failed to retrieve data for date: {date}, Status code: {spotify_freshfind_results.status_code}\")\n",
    "\n",
    "# Concatenate all DataFrames into a single DataFrame\n",
    "final_df = pd.concat(dfs, ignore_index=True)\n",
    "\n",
    "# Output the final DataFrame\n",
    "print(final_df)"
   ]
  },
  {
   "cell_type": "code",
   "execution_count": null,
   "id": "3fedbe0c-cf66-4489-a2a9-293d2a98105a",
   "metadata": {
    "scrolled": true
   },
   "outputs": [],
   "source": [
    "final_df"
   ]
  },
  {
   "cell_type": "code",
   "execution_count": null,
   "id": "46dcff03-5f25-427c-aa07-280723ab5cb5",
   "metadata": {},
   "outputs": [],
   "source": [
    "final_df.shape"
   ]
  },
  {
   "cell_type": "code",
   "execution_count": null,
   "id": "bfc93c28-2906-4be7-a5ad-37d6e7315964",
   "metadata": {
    "scrolled": true
   },
   "outputs": [],
   "source": [
    "# Aggregate track appearances over the specified dates\n",
    "track_appearances = {}\n",
    "\n",
    "for date in date_range:\n",
    "    #call the API with that date\n",
    "    spotify_freshfind_url = f'https://api.chartmetric.com/api/charts/spotify/freshfind?date={date}'\n",
    "    #set headers t\n",
    "    headers = {\"Authorization\": f\"Bearer {api_token}\"}\n",
    "\n",
    "    #get results\n",
    "    spotify_freshfind_results = requests.get(spotify_freshfind_url, headers = headers)\n",
    "    \n",
    "    for track in spotify_freshfind_results.json()['obj']:\n",
    "        if track['spotify_track_id'] in track_appearances:\n",
    "            track_appearances[track['spotify_track_id']] += 1\n",
    "        else:\n",
    "            track_appearances[track['spotify_track_id']] = 1\n",
    "\n",
    "   # Wait for a specified amount of time before making the next request\n",
    "    time.sleep(2)  # Wait for 2 seconds (adjust the duration as needed)\n",
    "    \n",
    "track_appearances"
   ]
  },
  {
   "cell_type": "code",
   "execution_count": null,
   "id": "4f2fe9ad-da0c-48b5-b193-c2d4d8373b87",
   "metadata": {},
   "outputs": [],
   "source": [
    "#Calculate median 'Time_on_chart'\n",
    "median_time_on_chart = pd.Series(track_appearances.values()).median()\n",
    "\n",
    "median_time_on_chart"
   ]
  },
  {
   "cell_type": "code",
   "execution_count": null,
   "id": "2b4ab89a-af01-4339-bd83-3f791c35bc08",
   "metadata": {
    "scrolled": true
   },
   "outputs": [],
   "source": [
    "# Function to determine if a track is a hit\n",
    "def check_if_hit(track_id):\n",
    "     appearances = track_appearances.get(track_id, 0)\n",
    "     if appearances > median_time_on_chart:\n",
    "         return \"Big Hit\"\n",
    "     else:\n",
    "         return \"Low Hit\"\n",
    "\n",
    "# Example use of check_if_hit\n",
    "for track in track_appearances:\n",
    "    track_id_example = track\n",
    "    hit_status = check_if_hit(track_id_example)\n",
    "    print(f\"The track with ID {track_id_example} is a {hit_status}.\")"
   ]
  },
  {
   "cell_type": "code",
   "execution_count": null,
   "id": "b20e330f",
   "metadata": {},
   "outputs": [],
   "source": [
    "# Specify the path and name of the CSV file\n",
    "output_csv_path = 'ListOfSpotifyTracksThatAreHits.csv'\n",
    "\n",
    "# Save the DataFrame to a CSV file\n",
    "final_df.to_csv(output_csv_path, index=False)  # Set index=False to exclude row indices in the CSV file\n",
    "\n",
    "print(f\"DataFrame is saved to {output_csv_path}\")"
   ]
  },
  {
   "cell_type": "markdown",
   "id": "88eb0843-31d6-44f8-ae22-f72112352e9f",
   "metadata": {},
   "source": [
    "# EDA -Disregard"
   ]
  },
  {
   "cell_type": "code",
   "execution_count": null,
   "id": "2827d6e7-f52a-4e45-b797-e8de2220649c",
   "metadata": {},
   "outputs": [],
   "source": [
    "#get spotify charts\n",
    "\n",
    "spotify_artist_charts_url = f\"https://api.chartmetric.com/api/charts/spotify/artists?latest=true&interval=monthly&type=popularity\"\n",
    "\n",
    "headers = {\"Authorization\": f\"Bearer {api_token}\"}\n",
    "\n",
    "spotify_artist_charts_results = requests.get(spotify_artist_charts_url, headers = headers)"
   ]
  },
  {
   "cell_type": "code",
   "execution_count": null,
   "id": "27fc8cfd-3958-49d4-a5d6-87b5619b9e97",
   "metadata": {
    "scrolled": true
   },
   "outputs": [],
   "source": [
    "spotify_artist_charts_results.json()"
   ]
  },
  {
   "cell_type": "code",
   "execution_count": null,
   "id": "c36ed86c-59a9-4ac7-ac59-d3f0cf752c95",
   "metadata": {},
   "outputs": [],
   "source": [
    "artist_objects = spotify_artist_charts_results.json()['obj']['data']\n",
    "\n",
    "\n",
    "#grab the name, sp_popularity, 'sp_monthly_listeners', 'spotify_artist_ids', 'monthly_popularity', 'rank', 'streak'\n",
    "artist_popularity_keys = ['name', 'sp_popularity', 'sp_monthly_listeners', 'spotify_artist_ids', 'monthly_popularity', 'rank', 'streak']\n",
    "\n",
    "#create an empyt list to store df data\n",
    "artist_popularity_df = []\n",
    "\n",
    "#iterate through artist objects to get only relevant data, assign keys and values and append to list\n",
    "for artist in artist_objects:\n",
    "    artist_info = {key: artist.get(key) for key in artist_popularity_keys}\n",
    "    extracted_data.append(artist_info)\n",
    "#create the new artist popularity df \n",
    "artist_popularity_df = pd.DataFrame(extracted_data)\n",
    "        "
   ]
  },
  {
   "cell_type": "code",
   "execution_count": null,
   "id": "467b757e-c6d5-4030-958d-08ac785a3054",
   "metadata": {},
   "outputs": [],
   "source": [
    "#print top ranked artists for latest\n",
    "\n",
    "artist_popularity_df.head()"
   ]
  },
  {
   "cell_type": "code",
   "execution_count": null,
   "id": "f54f9a1c-e834-46cc-bb3b-7e0048fadcd2",
   "metadata": {},
   "outputs": [],
   "source": [
    "#pull top spotify charts\n",
    "\n",
    "spotify_top_charts_url = 'https://api.chartmetric.com/api/charts/spotify?country_code=GLOBAL&type=plays&interval=daily&latest=true'\n",
    "\n",
    "headers = {\"Authorization\": f\"Bearer {api_token}\"}\n",
    "\n",
    "spotify_charts_results = requests.get(spotify_top_charts_url, headers = headers)\n"
   ]
  },
  {
   "cell_type": "code",
   "execution_count": null,
   "id": "bc4f151e-84db-4f2e-ae1c-81a5aa6b3df0",
   "metadata": {
    "scrolled": true
   },
   "outputs": [],
   "source": [
    "spotify_charts_results.json()"
   ]
  },
  {
   "cell_type": "code",
   "execution_count": null,
   "id": "e371bfc6-90d7-4097-9322-b4ddced48e50",
   "metadata": {},
   "outputs": [],
   "source": [
    "# pull tik tok charts\n",
    "tik_tok_charts_url = 'https://api.chartmetric.com/api/charts/tiktok/top-tracks-stats'\n",
    "\n"
   ]
  },
  {
   "cell_type": "code",
   "execution_count": null,
   "id": "fb9289f7-32fc-45ed-b755-3d7fd6fd1a69",
   "metadata": {},
   "outputs": [],
   "source": []
  }
 ],
 "metadata": {
  "kernelspec": {
   "display_name": "Python (new_env)",
   "language": "python",
   "name": "new_env"
  },
  "language_info": {
   "codemirror_mode": {
    "name": "ipython",
    "version": 3
   },
   "file_extension": ".py",
   "mimetype": "text/x-python",
   "name": "python",
   "nbconvert_exporter": "python",
   "pygments_lexer": "ipython3",
   "version": "3.11.9"
  }
 },
 "nbformat": 4,
 "nbformat_minor": 5
}
