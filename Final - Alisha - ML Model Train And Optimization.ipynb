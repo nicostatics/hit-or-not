{
 "cells": [
  {
   "cell_type": "code",
   "execution_count": 1,
   "metadata": {},
   "outputs": [],
   "source": [
    "import pandas as pd\n",
    "from sklearn.model_selection import train_test_split\n",
    "from sklearn.ensemble import RandomForestClassifier\n",
    "from sklearn.preprocessing import LabelEncoder\n",
    "from sklearn.metrics import precision_score, recall_score, f1_score, accuracy_score"
   ]
  },
  {
   "cell_type": "markdown",
   "metadata": {},
   "source": [
    "### Load the data"
   ]
  },
  {
   "cell_type": "code",
   "execution_count": 2,
   "metadata": {},
   "outputs": [],
   "source": [
    "# Load the data\n",
    "final_tracks_df = pd.read_csv('CSVs/final_CM_consolidatedTracksForML.csv', low_memory=False)\n",
    "new_tracks_df = pd.read_csv('CSVs/Final_ML_ListOfSpotifyTracksThatArePotentialNewHits.csv', low_memory=False)"
   ]
  },
  {
   "cell_type": "markdown",
   "metadata": {},
   "source": [
    "### Process both dataframes with the same encoding and cleaning steps"
   ]
  },
  {
   "cell_type": "code",
   "execution_count": 3,
   "metadata": {},
   "outputs": [],
   "source": [
    "# Combine for uniform preprocessing\n",
    "combined_df = pd.concat([final_tracks_df, new_tracks_df])\n",
    "\n",
    "# Handle categorical variables using Label Encoding for simplicity\n",
    "cat_columns = combined_df.select_dtypes(include=['object']).columns"
   ]
  },
  {
   "cell_type": "code",
   "execution_count": 4,
   "metadata": {},
   "outputs": [],
   "source": [
    "# Apply Label Encoder to each categorical column\n",
    "label_encoders = {}\n",
    "for col in cat_columns:\n",
    "    le = LabelEncoder()\n",
    "    combined_df[col] = le.fit_transform(combined_df[col].astype(str))  # Ensure conversion to string\n",
    "    label_encoders[col] = le  # Store the label encoder\n",
    "\n",
    "# Split combined_df back into original datasets\n",
    "final_tracks_df = combined_df.iloc[:len(final_tracks_df)]\n",
    "new_tracks_df = combined_df.iloc[len(final_tracks_df):]\n",
    "\n",
    "# Check for missing values and fill them\n",
    "combined_df.fillna(combined_df.mean(), inplace=True)"
   ]
  },
  {
   "cell_type": "markdown",
   "metadata": {},
   "source": [
    "### Final df and train/test split"
   ]
  },
  {
   "cell_type": "code",
   "execution_count": 5,
   "metadata": {},
   "outputs": [],
   "source": [
    "# Define features and target in the training data\n",
    "X = final_tracks_df.drop('IsHit', axis=1)\n",
    "Y = final_tracks_df['IsHit']\n",
    "\n",
    "# Split data into training and testing sets\n",
    "X_train, X_test, Y_train, Y_test = train_test_split(X, Y, test_size=0.3, random_state=42)"
   ]
  },
  {
   "cell_type": "markdown",
   "metadata": {},
   "source": [
    "## Classification"
   ]
  },
  {
   "cell_type": "code",
   "execution_count": 6,
   "metadata": {},
   "outputs": [],
   "source": [
    "# Initialize and train the classifier\n",
    "model = RandomForestClassifier(n_estimators=100, random_state=42)\n",
    "model.fit(X_train, Y_train)\n",
    "\n",
    "# Predict on the testing data from final_tracks_df\n",
    "predictions = model.predict(X_test)"
   ]
  },
  {
   "cell_type": "markdown",
   "metadata": {},
   "source": [
    "### Metrics"
   ]
  },
  {
   "cell_type": "code",
   "execution_count": 7,
   "metadata": {},
   "outputs": [
    {
     "name": "stdout",
     "output_type": "stream",
     "text": [
      "Precision: 0.9287387085981934\n",
      "Recall: 0.8821099459802987\n",
      "F1 Score: 0.9048239895697523\n",
      "Accuracy: 0.8921514312096029\n"
     ]
    }
   ],
   "source": [
    "# Calculate metrics\n",
    "precision = precision_score(Y_test, predictions)\n",
    "recall = recall_score(Y_test, predictions)\n",
    "f1 = f1_score(Y_test, predictions)\n",
    "accuracy = accuracy_score(Y_test, predictions)\n",
    "\n",
    "# Print out the scores\n",
    "print(f\"Precision: {precision}\")\n",
    "print(f\"Recall: {recall}\")\n",
    "print(f\"F1 Score: {f1}\")\n",
    "print(f\"Accuracy: {accuracy}\")"
   ]
  },
  {
   "cell_type": "markdown",
   "metadata": {},
   "source": [
    "### Predicting 'IsHit' for new tracks"
   ]
  },
  {
   "cell_type": "code",
   "execution_count": 8,
   "metadata": {},
   "outputs": [
    {
     "name": "stderr",
     "output_type": "stream",
     "text": [
      "/var/folders/wm/htn1clvs1vz677zl9r79l6f40000gn/T/ipykernel_10559/875136894.py:6: SettingWithCopyWarning: \n",
      "A value is trying to be set on a copy of a slice from a DataFrame.\n",
      "Try using .loc[row_indexer,col_indexer] = value instead\n",
      "\n",
      "See the caveats in the documentation: https://pandas.pydata.org/pandas-docs/stable/user_guide/indexing.html#returning-a-view-versus-a-copy\n",
      "  new_tracks_df['PredictedIsHit'] = new_hits_predictions\n"
     ]
    }
   ],
   "source": [
    "# Now predict the IsHit status for new tracks\n",
    "new_tracks_features = new_tracks_df.drop('IsHit', axis=1, errors='ignore')  # Drop IsHit if it exists\n",
    "new_hits_predictions = model.predict(new_tracks_features)\n",
    "\n",
    "# Append predictions to the new_tracks_df\n",
    "new_tracks_df['PredictedIsHit'] = new_hits_predictions"
   ]
  },
  {
   "cell_type": "markdown",
   "metadata": {},
   "source": [
    "## Save predictions"
   ]
  },
  {
   "cell_type": "code",
   "execution_count": 9,
   "metadata": {},
   "outputs": [
    {
     "name": "stdout",
     "output_type": "stream",
     "text": [
      "Predictions for new tracks saved to 'Final_PredictedNewHits.csv'.\n"
     ]
    }
   ],
   "source": [
    "# Save or display predictions\n",
    "new_tracks_df.to_csv('CSVs/Final_PredictedNewHits.csv', index=False)\n",
    "print(\"Predictions for new tracks saved to 'Final_PredictedNewHits.csv'.\")"
   ]
  }
 ],
 "metadata": {
  "kernelspec": {
   "display_name": "ai_bootcamp",
   "language": "python",
   "name": "ai_bootcamp"
  },
  "language_info": {
   "codemirror_mode": {
    "name": "ipython",
    "version": 3
   },
   "file_extension": ".py",
   "mimetype": "text/x-python",
   "name": "python",
   "nbconvert_exporter": "python",
   "pygments_lexer": "ipython3",
   "version": "3.12.2"
  }
 },
 "nbformat": 4,
 "nbformat_minor": 5
}
